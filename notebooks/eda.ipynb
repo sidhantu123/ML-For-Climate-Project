{
 "cells": [
  {
   "cell_type": "markdown",
   "metadata": {},
   "source": [
    "# Analysis of Missing AQI Values by City\n",
    "\n",
    "This notebook analyzes the missing AQI values in our dataset, broken down by city."
   ]
  },
  {
   "cell_type": "code",
   "execution_count": 2,
   "metadata": {},
   "outputs": [],
   "source": [
    "import pandas as pd\n",
    "import numpy as np\n",
    "import matplotlib.pyplot as plt\n",
    "import seaborn as sns\n",
    "\n",
    "# Set display options\n",
    "pd.set_option('display.max_rows', 100)\n",
    "pd.set_option('display.max_columns', 50)"
   ]
  },
  {
   "cell_type": "code",
   "execution_count": 3,
   "metadata": {},
   "outputs": [
    {
     "name": "stdout",
     "output_type": "stream",
     "text": [
      "Total number of rows: 50338\n",
      "\n",
      "Columns in the dataset:\n",
      "['name', 'datetime', 'tempmax', 'tempmin', 'temp', 'feelslikemax', 'feelslikemin', 'feelslike', 'dew', 'humidity', 'precip', 'precipprob', 'precipcover', 'preciptype', 'snow', 'snowdepth', 'windgust', 'windspeed', 'winddir', 'sealevelpressure', 'cloudcover', 'visibility', 'solarradiation', 'solarenergy', 'uvindex', 'severerisk', 'sunrise', 'sunset', 'moonphase', 'conditions', 'description', 'icon', 'stations', 'city', 'City_x', 'TropoO3', 'OMIO3', 'StratoO3', 'Date', 'City_y', 'PM2.5', 'PM10', 'NO', 'NO2', 'NOx', 'NH3', 'CO', 'SO2', 'O3', 'Benzene', 'Toluene', 'Xylene', 'AQI', 'AQI_Bucket']\n"
     ]
    }
   ],
   "source": [
    "# Read the merged data\n",
    "df = pd.read_csv('../data/final_merged_data.csv')\n",
    "print(f\"Total number of rows: {len(df)}\")\n",
    "print(f\"\\nColumns in the dataset:\\n{df.columns.tolist()}\")"
   ]
  },
  {
   "cell_type": "code",
   "execution_count": null,
   "metadata": {},
   "outputs": [],
   "source": [
    "# Analyze missing AQI values by city\n",
    "missing_aqi = df[df['AQI'].isna()].groupby('city').size().reset_index()\n",
    "missing_aqi.columns = ['City', 'Missing_AQI_Count']\n",
    "\n",
    "# Add total rows per city for context\n",
    "total_rows = df.groupby('City').size().reset_index()\n",
    "total_rows.columns = ['City', 'Total_Rows']\n",
    "\n",
    "# Merge the information\n",
    "missing_analysis = pd.merge(missing_aqi, total_rows, on='City', how='left')\n",
    "missing_analysis['Missing_Percentage'] = (missing_analysis['Missing_AQI_Count'] / missing_analysis['Total_Rows'] * 100).round(2)\n",
    "\n",
    "# Sort by number of missing values\n",
    "missing_analysis = missing_analysis.sort_values('Missing_AQI_Count', ascending=False)\n",
    "\n",
    "print(\"Analysis of Missing AQI Values by City:\")\n",
    "print(\"\\nTop cities with missing AQI values:\")\n",
    "display(missing_analysis)"
   ]
  },
  {
   "cell_type": "code",
   "execution_count": null,
   "metadata": {},
   "outputs": [],
   "source": [
    "# Create a bar plot of missing AQI counts by city\n",
    "plt.figure(figsize=(15, 8))\n",
    "sns.barplot(data=missing_analysis, x='City', y='Missing_AQI_Count')\n",
    "plt.xticks(rotation=45, ha='right')\n",
    "plt.title('Number of Missing AQI Values by City')\n",
    "plt.tight_layout()\n",
    "plt.show()"
   ]
  },
  {
   "cell_type": "code",
   "execution_count": null,
   "metadata": {},
   "outputs": [],
   "source": [
    "# Create a bar plot of missing AQI percentages by city\n",
    "plt.figure(figsize=(15, 8))\n",
    "sns.barplot(data=missing_analysis, x='City', y='Missing_Percentage')\n",
    "plt.xticks(rotation=45, ha='right')\n",
    "plt.title('Percentage of Missing AQI Values by City')\n",
    "plt.ylabel('Percentage of Missing Values')\n",
    "plt.tight_layout()\n",
    "plt.show()"
   ]
  },
  {
   "cell_type": "markdown",
   "metadata": {},
   "source": [
    "## Summary Statistics\n",
    "\n",
    "Below we'll calculate some summary statistics about the missing AQI values:"
   ]
  },
  {
   "cell_type": "code",
   "execution_count": null,
   "metadata": {},
   "outputs": [],
   "source": [
    "# Calculate summary statistics\n",
    "total_missing = missing_analysis['Missing_AQI_Count'].sum()\n",
    "total_rows = missing_analysis['Total_Rows'].sum()\n",
    "overall_missing_percentage = (total_missing / total_rows * 100).round(2)\n",
    "\n",
    "print(f\"Total number of rows across all cities: {total_rows:,}\")\n",
    "print(f\"Total number of missing AQI values: {total_missing:,}\")\n",
    "print(f\"Overall percentage of missing AQI values: {overall_missing_percentage}%\")\n",
    "print(f\"\\nNumber of cities with missing AQI values: {len(missing_analysis)}\")\n",
    "\n",
    "# Display summary statistics of missing percentages\n",
    "print(\"\\nSummary statistics of missing percentages across cities:\")\n",
    "display(missing_analysis['Missing_Percentage'].describe().round(2))"
   ]
  }
 ],
 "metadata": {
  "kernelspec": {
   "display_name": "venv",
   "language": "python",
   "name": "python3"
  },
  "language_info": {
   "codemirror_mode": {
    "name": "ipython",
    "version": 3
   },
   "file_extension": ".py",
   "mimetype": "text/x-python",
   "name": "python",
   "nbconvert_exporter": "python",
   "pygments_lexer": "ipython3",
   "version": "3.10.12"
  }
 },
 "nbformat": 4,
 "nbformat_minor": 4
}
